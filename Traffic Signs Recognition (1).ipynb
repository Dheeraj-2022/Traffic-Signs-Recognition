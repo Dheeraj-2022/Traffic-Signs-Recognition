{
 "cells": [
  {
   "cell_type": "code",
   "execution_count": 1,
   "id": "56cc8ebd",
   "metadata": {},
   "outputs": [],
   "source": [
    "from PIL import Image\n",
    "import numpy as np \n",
    "import pandas as pd\n",
    "import matplotlib.pyplot as plt\n",
    "import tensorflow as tf\n",
    "import os\n",
    "from sklearn.model_selection import train_test_split\n",
    "from keras.utils import to_categorical\n",
    "from keras.models import Sequential\n",
    "from keras import layers"
   ]
  },
  {
   "cell_type": "code",
   "execution_count": 2,
   "id": "1eab85f0",
   "metadata": {},
   "outputs": [],
   "source": [
    "data=[]\n",
    "labels=[]\n",
    "classes=43\n",
    "cur_path=os.getcwd()\n",
    "for i in range(classes):\n",
    "    path=os.path.join(cur_path,'train',str(i))\n",
    "    images=os.listdir(path)\n",
    "    \n",
    "    for a in images:\n",
    "        try:\n",
    "            image = Image.open(path + '\\\\'+ a)\n",
    "            image = image.resize((30,30))\n",
    "            image = np.array(image)\n",
    "            sim = Image.fromarray(image)\n",
    "            data.append(image)\n",
    "            labels.append(i)\n",
    "        except:\n",
    "            print(\"Error loading image\")"
   ]
  },
  {
   "cell_type": "code",
   "execution_count": 3,
   "id": "1bcfd7e8",
   "metadata": {},
   "outputs": [],
   "source": [
    "data=np.array(data)\n",
    "labels=np.array(labels)"
   ]
  },
  {
   "cell_type": "code",
   "execution_count": 4,
   "id": "8c01cf0b",
   "metadata": {},
   "outputs": [
    {
     "data": {
      "text/plain": [
       "(39209, 30, 30, 3)"
      ]
     },
     "execution_count": 4,
     "metadata": {},
     "output_type": "execute_result"
    }
   ],
   "source": [
    "data.shape"
   ]
  },
  {
   "cell_type": "code",
   "execution_count": 5,
   "id": "ee53bbb1",
   "metadata": {},
   "outputs": [
    {
     "data": {
      "text/plain": [
       "(39209,)"
      ]
     },
     "execution_count": 5,
     "metadata": {},
     "output_type": "execute_result"
    }
   ],
   "source": [
    "labels.shape"
   ]
  },
  {
   "cell_type": "code",
   "execution_count": 6,
   "id": "460b7340",
   "metadata": {},
   "outputs": [],
   "source": [
    "X_train,X_test,y_train,y_test=train_test_split(data,labels,test_size=0.2,random_state=0)"
   ]
  },
  {
   "cell_type": "code",
   "execution_count": 7,
   "id": "466f4cda",
   "metadata": {},
   "outputs": [
    {
     "data": {
      "text/plain": [
       "((31367, 30, 30, 3), (7842, 30, 30, 3), (31367,), (7842,))"
      ]
     },
     "execution_count": 7,
     "metadata": {},
     "output_type": "execute_result"
    }
   ],
   "source": [
    "X_train.shape,X_test.shape,y_train.shape,y_test.shape"
   ]
  },
  {
   "cell_type": "code",
   "execution_count": 8,
   "id": "97a2c439",
   "metadata": {},
   "outputs": [],
   "source": [
    "y_train=to_categorical(y_train,43)\n",
    "y_test=to_categorical(y_test,43)"
   ]
  },
  {
   "cell_type": "code",
   "execution_count": 9,
   "id": "cadf11c2",
   "metadata": {},
   "outputs": [],
   "source": [
    "from tensorflow import keras"
   ]
  },
  {
   "cell_type": "code",
   "execution_count": 10,
   "id": "91a020a5",
   "metadata": {},
   "outputs": [],
   "source": [
    "model=keras.Sequential([\n",
    "    layers.Conv2D(filters=32,kernel_size=(5,5),activation='relu',input_shape=X_train.shape[1:]),\n",
    "    layers.Conv2D(filters=32,kernel_size=(5,5),activation='relu'),\n",
    "    layers.MaxPool2D(pool_size=(2,2)),\n",
    "    layers.Dropout(0.25),\n",
    "    layers.Conv2D(filters=64,kernel_size=(3,3),activation='relu'),\n",
    "    layers.Conv2D(filters=64,kernel_size=(3,3),activation='relu'),\n",
    "    layers.MaxPool2D(pool_size=(2,2)),\n",
    "    layers.Dropout(0.25),\n",
    "    layers.Flatten(),\n",
    "    layers.Dense(256,activation='relu'),\n",
    "    layers.Dropout(0.5),\n",
    "    layers.Dense(43,activation='sigmoid')\n",
    "])"
   ]
  },
  {
   "cell_type": "code",
   "execution_count": 11,
   "id": "e1b1d33f",
   "metadata": {},
   "outputs": [],
   "source": [
    "model.compile(loss='categorical_crossentropy',\n",
    "             optimizer='adam',\n",
    "             metrics=['accuracy'])"
   ]
  },
  {
   "cell_type": "code",
   "execution_count": 12,
   "id": "f44892fd",
   "metadata": {},
   "outputs": [
    {
     "name": "stdout",
     "output_type": "stream",
     "text": [
      "Epoch 1/30\n",
      "491/491 [==============================] - 73s 144ms/step - loss: 2.5252 - accuracy: 0.3851 - val_loss: 0.8120 - val_accuracy: 0.8095\n",
      "Epoch 2/30\n",
      "491/491 [==============================] - 71s 145ms/step - loss: 0.8393 - accuracy: 0.7541 - val_loss: 0.3299 - val_accuracy: 0.9144\n",
      "Epoch 3/30\n",
      "491/491 [==============================] - 69s 141ms/step - loss: 0.5070 - accuracy: 0.8500 - val_loss: 0.1862 - val_accuracy: 0.9531\n",
      "Epoch 4/30\n",
      "491/491 [==============================] - 68s 139ms/step - loss: 0.3664 - accuracy: 0.8921 - val_loss: 0.1158 - val_accuracy: 0.9707\n",
      "Epoch 5/30\n",
      "491/491 [==============================] - 69s 140ms/step - loss: 0.2832 - accuracy: 0.9141 - val_loss: 0.0976 - val_accuracy: 0.9719\n",
      "Epoch 6/30\n",
      "491/491 [==============================] - 69s 140ms/step - loss: 0.2430 - accuracy: 0.9283 - val_loss: 0.0997 - val_accuracy: 0.9712\n",
      "Epoch 7/30\n",
      "491/491 [==============================] - 69s 141ms/step - loss: 0.2401 - accuracy: 0.9327 - val_loss: 0.0851 - val_accuracy: 0.9792\n",
      "Epoch 8/30\n",
      "491/491 [==============================] - 69s 140ms/step - loss: 0.2070 - accuracy: 0.9400 - val_loss: 0.0854 - val_accuracy: 0.9746\n",
      "Epoch 9/30\n",
      "491/491 [==============================] - 69s 140ms/step - loss: 0.2016 - accuracy: 0.9414 - val_loss: 0.0842 - val_accuracy: 0.9769\n",
      "Epoch 10/30\n",
      "491/491 [==============================] - 69s 140ms/step - loss: 0.1819 - accuracy: 0.9486 - val_loss: 0.0635 - val_accuracy: 0.9846\n",
      "Epoch 11/30\n",
      "491/491 [==============================] - 68s 139ms/step - loss: 0.1797 - accuracy: 0.9494 - val_loss: 0.0711 - val_accuracy: 0.9799\n",
      "Epoch 12/30\n",
      "491/491 [==============================] - 68s 138ms/step - loss: 0.1876 - accuracy: 0.9492 - val_loss: 0.0511 - val_accuracy: 0.9860\n",
      "Epoch 13/30\n",
      "491/491 [==============================] - 68s 139ms/step - loss: 0.1593 - accuracy: 0.9545 - val_loss: 0.0467 - val_accuracy: 0.9870\n",
      "Epoch 14/30\n",
      "491/491 [==============================] - 67s 137ms/step - loss: 0.1555 - accuracy: 0.9567 - val_loss: 0.0682 - val_accuracy: 0.9830\n",
      "Epoch 15/30\n",
      "491/491 [==============================] - 67s 137ms/step - loss: 0.1652 - accuracy: 0.9555 - val_loss: 0.0496 - val_accuracy: 0.9870\n",
      "Epoch 16/30\n",
      "491/491 [==============================] - 67s 137ms/step - loss: 0.1446 - accuracy: 0.9604 - val_loss: 0.0412 - val_accuracy: 0.9899\n",
      "Epoch 17/30\n",
      "491/491 [==============================] - 67s 136ms/step - loss: 0.1559 - accuracy: 0.9587 - val_loss: 0.0485 - val_accuracy: 0.9876\n",
      "Epoch 18/30\n",
      "491/491 [==============================] - 67s 137ms/step - loss: 0.1411 - accuracy: 0.9627 - val_loss: 0.0424 - val_accuracy: 0.9883\n",
      "Epoch 19/30\n",
      "491/491 [==============================] - 67s 136ms/step - loss: 0.1402 - accuracy: 0.9637 - val_loss: 0.0427 - val_accuracy: 0.9885\n",
      "Epoch 20/30\n",
      "491/491 [==============================] - 67s 137ms/step - loss: 0.1433 - accuracy: 0.9617 - val_loss: 0.0463 - val_accuracy: 0.9884\n",
      "Epoch 21/30\n",
      "491/491 [==============================] - 68s 138ms/step - loss: 0.1264 - accuracy: 0.9673 - val_loss: 0.0383 - val_accuracy: 0.9894\n",
      "Epoch 22/30\n",
      "491/491 [==============================] - 67s 137ms/step - loss: 0.1356 - accuracy: 0.9654 - val_loss: 0.0628 - val_accuracy: 0.9829\n",
      "Epoch 23/30\n",
      "491/491 [==============================] - 69s 140ms/step - loss: 0.1522 - accuracy: 0.9603 - val_loss: 0.0431 - val_accuracy: 0.9885\n",
      "Epoch 24/30\n",
      "491/491 [==============================] - 67s 137ms/step - loss: 0.1464 - accuracy: 0.9633 - val_loss: 0.0442 - val_accuracy: 0.9893\n",
      "Epoch 25/30\n",
      "491/491 [==============================] - 68s 139ms/step - loss: 0.1546 - accuracy: 0.9618 - val_loss: 0.0346 - val_accuracy: 0.9923\n",
      "Epoch 26/30\n",
      "491/491 [==============================] - 70s 142ms/step - loss: 0.1445 - accuracy: 0.9627 - val_loss: 0.0375 - val_accuracy: 0.9898\n",
      "Epoch 27/30\n",
      "491/491 [==============================] - 71s 145ms/step - loss: 0.1384 - accuracy: 0.9662 - val_loss: 0.0507 - val_accuracy: 0.9862\n",
      "Epoch 28/30\n",
      "491/491 [==============================] - 72s 146ms/step - loss: 0.1527 - accuracy: 0.9636 - val_loss: 0.0325 - val_accuracy: 0.9913\n",
      "Epoch 29/30\n",
      "491/491 [==============================] - 73s 150ms/step - loss: 0.1309 - accuracy: 0.9674 - val_loss: 0.0607 - val_accuracy: 0.9858\n",
      "Epoch 30/30\n",
      "491/491 [==============================] - 74s 150ms/step - loss: 0.1221 - accuracy: 0.9711 - val_loss: 0.0261 - val_accuracy: 0.9927\n"
     ]
    }
   ],
   "source": [
    "history=model.fit(X_train,y_train,batch_size=64,epochs=30,validation_data=(X_test,y_test))"
   ]
  },
  {
   "cell_type": "code",
   "execution_count": 13,
   "id": "42fceca1",
   "metadata": {},
   "outputs": [],
   "source": [
    "model.save(\"my_model.h5\")"
   ]
  },
  {
   "cell_type": "code",
   "execution_count": 14,
   "id": "6d857e87",
   "metadata": {},
   "outputs": [
    {
     "data": {
      "image/png": "[encoded data removed]",
      "text/plain": [
       "<Figure size 432x288 with 1 Axes>"
      ]
     },
     "metadata": {
      "needs_background": "light"
     },
     "output_type": "display_data"
    }
   ],
   "source": [
    "plt.figure(0)\n",
    "plt.plot(history.history['accuracy'], label='training accuracy')\n",
    "plt.plot(history.history['val_accuracy'], label='val accuracy')\n",
    "plt.title('Accuracy')\n",
    "plt.xlabel('epochs')\n",
    "plt.ylabel('accuracy')\n",
    "plt.legend()\n",
    "plt.show()"
   ]
  },
  {
   "cell_type": "code",
   "execution_count": 15,
   "id": "1dfef229",
   "metadata": {},
   "outputs": [
    {
     "data": {
      "image/png": "[encoded data removed]",
      "text/plain": [
       "<Figure size 432x288 with 1 Axes>"
      ]
     },
     "metadata": {
      "needs_background": "light"
     },
     "output_type": "display_data"
    }
   ],
   "source": [
    "plt.figure(1)\n",
    "plt.plot(history.history['loss'], label='training loss')\n",
    "plt.plot(history.history['val_loss'], label='val loss')\n",
    "plt.title('Loss')\n",
    "plt.xlabel('epochs')\n",
    "plt.ylabel('loss')\n",
    "plt.legend()\n",
    "plt.show()"
   ]
  },
  {
   "cell_type": "code",
   "execution_count": 18,
   "id": "4bba8f63",
   "metadata": {},
   "outputs": [
    {
     "name": "stdout",
     "output_type": "stream",
     "text": [
      "395/395 [==============================] - 9s 21ms/step\n",
      "0.7445764053840064\n"
     ]
    }
   ],
   "source": [
    "from sklearn.metrics import accuracy_score\n",
    "y_test = pd.read_csv('Test.csv')\n",
    "labels = y_test[\"ClassId\"].values\n",
    "imgs = y_test[\"Path\"].values\n",
    "data=[]\n",
    "for img in imgs:\n",
    "    image = Image.open(img)\n",
    "    image = image.resize((30,30))\n",
    "    data.append(np.array(image))\n",
    "X_test=np.array(data)\n",
    "predict_x=model.predict(X_test) \n",
    "classes_x=np.argmax(predict_x,axis=1)\n",
    "#Accuracy with the test data\n",
    "from sklearn.metrics import accuracy_score\n",
    "print(accuracy_score(labels, classes_x))"
   ]
  },
  {
   "cell_type": "code",
   "execution_count": 19,
   "id": "6e054790",
   "metadata": {},
   "outputs": [],
   "source": [
    "model.save('traffic_classifier.h5')"
   ]
  },
  {
   "cell_type": "code",
   "execution_count": null,
   "id": "734d53c9",
   "metadata": {},
   "outputs": [],
   "source": []
  },
  {
   "cell_type": "code",
   "execution_count": null,
   "id": "dfa30d41",
   "metadata": {},
   "outputs": [],
   "source": []
  }
 ],
 "metadata": {
  "kernelspec": {
   "display_name": "Python 3 (ipykernel)",
   "language": "python",
   "name": "python3"
  },
  "language_info": {
   "codemirror_mode": {
    "name": "ipython",
    "version": 3
   },
   "file_extension": ".py",
   "mimetype": "text/x-python",
   "name": "python",
   "nbconvert_exporter": "python",
   "pygments_lexer": "ipython3",
   "version": "3.9.12"
  }
 },
 "nbformat": 4,
 "nbformat_minor": 5
}
